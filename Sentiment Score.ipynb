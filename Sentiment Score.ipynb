{
 "cells": [
  {
   "cell_type": "markdown",
   "metadata": {},
   "source": [
    "### Sentiment Score"
   ]
  },
  {
   "cell_type": "code",
   "execution_count": 1,
   "metadata": {},
   "outputs": [],
   "source": [
    "import numpy as np\n",
    "import pandas as pd\n",
    "import matplotlib.pyplot as plt\n",
    "import seaborn as sns\n",
    "sns.set()"
   ]
  },
  {
   "cell_type": "markdown",
   "metadata": {},
   "source": [
    "Please find a spreadsheet at the following [URL](https://docs.google.com/spreadsheets/d/14XrKWOEYdHNBWA1A3PqMI3ZhI0RsPbi-tD9595wnETs/edit#gid=0):\n",
    "\n",
    "The spreadsheet contains the following information:\n",
    "- Number of positive, negative and neutral messages about a certain topic (company, currency, commodity) at different days."
   ]
  },
  {
   "cell_type": "code",
   "execution_count": 2,
   "metadata": {},
   "outputs": [],
   "source": [
    "st = pd.read_csv('sentiment.csv')"
   ]
  },
  {
   "cell_type": "code",
   "execution_count": 3,
   "metadata": {},
   "outputs": [
    {
     "data": {
      "text/html": [
       "<div>\n",
       "<style scoped>\n",
       "    .dataframe tbody tr th:only-of-type {\n",
       "        vertical-align: middle;\n",
       "    }\n",
       "\n",
       "    .dataframe tbody tr th {\n",
       "        vertical-align: top;\n",
       "    }\n",
       "\n",
       "    .dataframe thead th {\n",
       "        text-align: right;\n",
       "    }\n",
       "</style>\n",
       "<table border=\"1\" class=\"dataframe\">\n",
       "  <thead>\n",
       "    <tr style=\"text-align: right;\">\n",
       "      <th></th>\n",
       "      <th>Company</th>\n",
       "      <th>Day</th>\n",
       "      <th>Stock Exchange</th>\n",
       "      <th>Total Messages</th>\n",
       "      <th>Negative Messages</th>\n",
       "      <th>Neutral Messages</th>\n",
       "      <th>Positive Messages</th>\n",
       "    </tr>\n",
       "  </thead>\n",
       "  <tbody>\n",
       "    <tr>\n",
       "      <th>0</th>\n",
       "      <td>Fresenius SE &amp; Co KGaA</td>\n",
       "      <td>2018-02-04</td>\n",
       "      <td>DAX</td>\n",
       "      <td>3</td>\n",
       "      <td>0</td>\n",
       "      <td>0</td>\n",
       "      <td>3</td>\n",
       "    </tr>\n",
       "    <tr>\n",
       "      <th>1</th>\n",
       "      <td>Merck KGaA</td>\n",
       "      <td>2018-02-07</td>\n",
       "      <td>DAX</td>\n",
       "      <td>3</td>\n",
       "      <td>0</td>\n",
       "      <td>2</td>\n",
       "      <td>1</td>\n",
       "    </tr>\n",
       "    <tr>\n",
       "      <th>2</th>\n",
       "      <td>Deutsche Boerse AG</td>\n",
       "      <td>2018-02-04</td>\n",
       "      <td>DAX</td>\n",
       "      <td>4</td>\n",
       "      <td>1</td>\n",
       "      <td>0</td>\n",
       "      <td>3</td>\n",
       "    </tr>\n",
       "    <tr>\n",
       "      <th>3</th>\n",
       "      <td>Munich Re</td>\n",
       "      <td>2018-02-03</td>\n",
       "      <td>DAX</td>\n",
       "      <td>4</td>\n",
       "      <td>0</td>\n",
       "      <td>2</td>\n",
       "      <td>2</td>\n",
       "    </tr>\n",
       "    <tr>\n",
       "      <th>4</th>\n",
       "      <td>Bayer AG</td>\n",
       "      <td>2018-02-04</td>\n",
       "      <td>DAX</td>\n",
       "      <td>5</td>\n",
       "      <td>0</td>\n",
       "      <td>2</td>\n",
       "      <td>3</td>\n",
       "    </tr>\n",
       "  </tbody>\n",
       "</table>\n",
       "</div>"
      ],
      "text/plain": [
       "                  Company         Day Stock Exchange  Total Messages  \\\n",
       "0  Fresenius SE & Co KGaA  2018-02-04            DAX               3   \n",
       "1              Merck KGaA  2018-02-07            DAX               3   \n",
       "2      Deutsche Boerse AG  2018-02-04            DAX               4   \n",
       "3               Munich Re  2018-02-03            DAX               4   \n",
       "4                Bayer AG  2018-02-04            DAX               5   \n",
       "\n",
       "   Negative Messages  Neutral Messages  Positive Messages  \n",
       "0                  0                 0                  3  \n",
       "1                  0                 2                  1  \n",
       "2                  1                 0                  3  \n",
       "3                  0                 2                  2  \n",
       "4                  0                 2                  3  "
      ]
     },
     "execution_count": 3,
     "metadata": {},
     "output_type": "execute_result"
    }
   ],
   "source": [
    "st.head()"
   ]
  },
  {
   "cell_type": "code",
   "execution_count": 4,
   "metadata": {},
   "outputs": [
    {
     "name": "stdout",
     "output_type": "stream",
     "text": [
      "<class 'pandas.core.frame.DataFrame'>\n",
      "RangeIndex: 2055 entries, 0 to 2054\n",
      "Data columns (total 7 columns):\n",
      "Company              2055 non-null object\n",
      "Day                  2055 non-null object\n",
      "Stock Exchange       2055 non-null object\n",
      "Total Messages       2055 non-null int64\n",
      "Negative Messages    2055 non-null int64\n",
      "Neutral Messages     2055 non-null int64\n",
      "Positive Messages    2055 non-null int64\n",
      "dtypes: int64(4), object(3)\n",
      "memory usage: 112.5+ KB\n"
     ]
    }
   ],
   "source": [
    "st.info()"
   ]
  },
  {
   "cell_type": "code",
   "execution_count": 5,
   "metadata": {},
   "outputs": [],
   "source": [
    "st.drop(['Stock Exchange'], axis=1, inplace=True)"
   ]
  },
  {
   "cell_type": "markdown",
   "metadata": {},
   "source": [
    "- In this context, I will denote the number of messages assigned to the `Negative` and `Positive` categories as `N` and `P`, respectively, and the total number of messages in all categories as `T`.\n",
    "- There is also a `Neutral` category count `O`, such that `N + P + O = T`."
   ]
  },
  {
   "cell_type": "markdown",
   "metadata": {},
   "source": [
    "There are several methods for computing an index from scored sentiment components of companies. Each is based on comparing positive and negative messages, and each has advantages and disadvantages."
   ]
  },
  {
   "cell_type": "markdown",
   "metadata": {},
   "source": [
    "__Absolute Proportional Difference__\n",
    "\n",
    "$$Sentiment\\;Score = \\frac{P-N}{P+N+O}$$"
   ]
  },
  {
   "cell_type": "markdown",
   "metadata": {},
   "source": [
    "- This formula measure is based on the difference in counts between `positive` and `negative` messages counts normalized by the total number of messages in the company on any topic. From this formula it it clear that each count in `P` or `N` has the same marginal effect: `1/T` or `1/(P + N + O)`.\n",
    "- The `Sentiment Score` is equal to zero when there are axactly the same number of `positve` and `negative` messages, `-1` when there in only one topic on which the company in perfectly `negative` and `1` when there is one topic and the company is perfectly `positive`."
   ]
  },
  {
   "cell_type": "code",
   "execution_count": 6,
   "metadata": {},
   "outputs": [],
   "source": [
    "st['Absolute'] = (st['Positive Messages'] - st['Negative Messages'])/st['Total Messages']"
   ]
  },
  {
   "cell_type": "code",
   "execution_count": 7,
   "metadata": {},
   "outputs": [
    {
     "data": {
      "text/html": [
       "<div>\n",
       "<style scoped>\n",
       "    .dataframe tbody tr th:only-of-type {\n",
       "        vertical-align: middle;\n",
       "    }\n",
       "\n",
       "    .dataframe tbody tr th {\n",
       "        vertical-align: top;\n",
       "    }\n",
       "\n",
       "    .dataframe thead th {\n",
       "        text-align: right;\n",
       "    }\n",
       "</style>\n",
       "<table border=\"1\" class=\"dataframe\">\n",
       "  <thead>\n",
       "    <tr style=\"text-align: right;\">\n",
       "      <th></th>\n",
       "      <th>Company</th>\n",
       "      <th>Day</th>\n",
       "      <th>Total Messages</th>\n",
       "      <th>Negative Messages</th>\n",
       "      <th>Neutral Messages</th>\n",
       "      <th>Positive Messages</th>\n",
       "      <th>Absolute</th>\n",
       "    </tr>\n",
       "  </thead>\n",
       "  <tbody>\n",
       "    <tr>\n",
       "      <th>0</th>\n",
       "      <td>Fresenius SE &amp; Co KGaA</td>\n",
       "      <td>2018-02-04</td>\n",
       "      <td>3</td>\n",
       "      <td>0</td>\n",
       "      <td>0</td>\n",
       "      <td>3</td>\n",
       "      <td>1.000000</td>\n",
       "    </tr>\n",
       "    <tr>\n",
       "      <th>1</th>\n",
       "      <td>Merck KGaA</td>\n",
       "      <td>2018-02-07</td>\n",
       "      <td>3</td>\n",
       "      <td>0</td>\n",
       "      <td>2</td>\n",
       "      <td>1</td>\n",
       "      <td>0.333333</td>\n",
       "    </tr>\n",
       "    <tr>\n",
       "      <th>2</th>\n",
       "      <td>Deutsche Boerse AG</td>\n",
       "      <td>2018-02-04</td>\n",
       "      <td>4</td>\n",
       "      <td>1</td>\n",
       "      <td>0</td>\n",
       "      <td>3</td>\n",
       "      <td>0.500000</td>\n",
       "    </tr>\n",
       "    <tr>\n",
       "      <th>3</th>\n",
       "      <td>Munich Re</td>\n",
       "      <td>2018-02-03</td>\n",
       "      <td>4</td>\n",
       "      <td>0</td>\n",
       "      <td>2</td>\n",
       "      <td>2</td>\n",
       "      <td>0.500000</td>\n",
       "    </tr>\n",
       "    <tr>\n",
       "      <th>4</th>\n",
       "      <td>Bayer AG</td>\n",
       "      <td>2018-02-04</td>\n",
       "      <td>5</td>\n",
       "      <td>0</td>\n",
       "      <td>2</td>\n",
       "      <td>3</td>\n",
       "      <td>0.600000</td>\n",
       "    </tr>\n",
       "    <tr>\n",
       "      <th>5</th>\n",
       "      <td>Fresenius SE &amp; Co KGaA</td>\n",
       "      <td>2018-02-06</td>\n",
       "      <td>5</td>\n",
       "      <td>0</td>\n",
       "      <td>4</td>\n",
       "      <td>1</td>\n",
       "      <td>0.200000</td>\n",
       "    </tr>\n",
       "    <tr>\n",
       "      <th>6</th>\n",
       "      <td>Munich Re</td>\n",
       "      <td>2018-02-04</td>\n",
       "      <td>5</td>\n",
       "      <td>0</td>\n",
       "      <td>4</td>\n",
       "      <td>1</td>\n",
       "      <td>0.200000</td>\n",
       "    </tr>\n",
       "    <tr>\n",
       "      <th>7</th>\n",
       "      <td>Merck KGaA</td>\n",
       "      <td>2018-02-04</td>\n",
       "      <td>6</td>\n",
       "      <td>3</td>\n",
       "      <td>2</td>\n",
       "      <td>1</td>\n",
       "      <td>-0.333333</td>\n",
       "    </tr>\n",
       "    <tr>\n",
       "      <th>8</th>\n",
       "      <td>Merck KGaA</td>\n",
       "      <td>2018-02-08</td>\n",
       "      <td>6</td>\n",
       "      <td>0</td>\n",
       "      <td>3</td>\n",
       "      <td>3</td>\n",
       "      <td>0.500000</td>\n",
       "    </tr>\n",
       "    <tr>\n",
       "      <th>9</th>\n",
       "      <td>Bayer AG</td>\n",
       "      <td>2018-02-03</td>\n",
       "      <td>7</td>\n",
       "      <td>1</td>\n",
       "      <td>2</td>\n",
       "      <td>4</td>\n",
       "      <td>0.428571</td>\n",
       "    </tr>\n",
       "  </tbody>\n",
       "</table>\n",
       "</div>"
      ],
      "text/plain": [
       "                  Company         Day  Total Messages  Negative Messages  \\\n",
       "0  Fresenius SE & Co KGaA  2018-02-04               3                  0   \n",
       "1              Merck KGaA  2018-02-07               3                  0   \n",
       "2      Deutsche Boerse AG  2018-02-04               4                  1   \n",
       "3               Munich Re  2018-02-03               4                  0   \n",
       "4                Bayer AG  2018-02-04               5                  0   \n",
       "5  Fresenius SE & Co KGaA  2018-02-06               5                  0   \n",
       "6               Munich Re  2018-02-04               5                  0   \n",
       "7              Merck KGaA  2018-02-04               6                  3   \n",
       "8              Merck KGaA  2018-02-08               6                  0   \n",
       "9                Bayer AG  2018-02-03               7                  1   \n",
       "\n",
       "   Neutral Messages  Positive Messages  Absolute  \n",
       "0                 0                  3  1.000000  \n",
       "1                 2                  1  0.333333  \n",
       "2                 0                  3  0.500000  \n",
       "3                 2                  2  0.500000  \n",
       "4                 2                  3  0.600000  \n",
       "5                 4                  1  0.200000  \n",
       "6                 4                  1  0.200000  \n",
       "7                 2                  1 -0.333333  \n",
       "8                 3                  3  0.500000  \n",
       "9                 2                  4  0.428571  "
      ]
     },
     "execution_count": 7,
     "metadata": {},
     "output_type": "execute_result"
    }
   ],
   "source": [
    "st.head(10)"
   ]
  },
  {
   "cell_type": "markdown",
   "metadata": {},
   "source": [
    "The distribution of `Absolute Sentiment Score`"
   ]
  },
  {
   "cell_type": "code",
   "execution_count": 8,
   "metadata": {},
   "outputs": [
    {
     "data": {
      "image/png": "[encoded data removed]",
      "text/plain": [
       "<matplotlib.figure.Figure at 0x1b1e45329e8>"
      ]
     },
     "metadata": {},
     "output_type": "display_data"
    }
   ],
   "source": [
    "sns.distplot(st['Absolute'], bins=20);"
   ]
  },
  {
   "cell_type": "markdown",
   "metadata": {},
   "source": [
    "- The disadvantage of this formula: a sentiment score is affected by non-sentiment (`Neutral` messages). In order to address this problem, I propose an alternative measure that _relative proportional difference_."
   ]
  },
  {
   "cell_type": "markdown",
   "metadata": {},
   "source": [
    "__Relative Proportional Difference__\n",
    "$$Sentiment\\;Score = \\frac{P-N}{P+N}$$"
   ]
  },
  {
   "cell_type": "markdown",
   "metadata": {},
   "source": [
    "- This formula also ranges from -1 to 1, but makes explict the range constrain hidden of `Absolute Proportional Difference` by non-sentiment (`Neutal` messages).\n",
    "- Dividing by `P + N` the formula from variation in the sentimented messages assigns to any topic. The only remaining influence of sentimented message is that the overall number of messages available to show a sentiment is increased or reduced.\n",
    "- Finally, unlike `Absolute Proportional Difference` this formula will not nesessarily create an apparent move to a more centrist position (zero) if the proportion of `Neutral` messages are dominance."
   ]
  },
  {
   "cell_type": "code",
   "execution_count": 9,
   "metadata": {},
   "outputs": [],
   "source": [
    "st['Relative'] = (st['Positive Messages'] - st['Negative Messages'])/(st['Positive Messages'] + st['Negative Messages'])"
   ]
  },
  {
   "cell_type": "code",
   "execution_count": 10,
   "metadata": {},
   "outputs": [
    {
     "data": {
      "text/html": [
       "<div>\n",
       "<style scoped>\n",
       "    .dataframe tbody tr th:only-of-type {\n",
       "        vertical-align: middle;\n",
       "    }\n",
       "\n",
       "    .dataframe tbody tr th {\n",
       "        vertical-align: top;\n",
       "    }\n",
       "\n",
       "    .dataframe thead th {\n",
       "        text-align: right;\n",
       "    }\n",
       "</style>\n",
       "<table border=\"1\" class=\"dataframe\">\n",
       "  <thead>\n",
       "    <tr style=\"text-align: right;\">\n",
       "      <th></th>\n",
       "      <th>Company</th>\n",
       "      <th>Day</th>\n",
       "      <th>Total Messages</th>\n",
       "      <th>Negative Messages</th>\n",
       "      <th>Neutral Messages</th>\n",
       "      <th>Positive Messages</th>\n",
       "      <th>Absolute</th>\n",
       "      <th>Relative</th>\n",
       "    </tr>\n",
       "  </thead>\n",
       "  <tbody>\n",
       "    <tr>\n",
       "      <th>0</th>\n",
       "      <td>Fresenius SE &amp; Co KGaA</td>\n",
       "      <td>2018-02-04</td>\n",
       "      <td>3</td>\n",
       "      <td>0</td>\n",
       "      <td>0</td>\n",
       "      <td>3</td>\n",
       "      <td>1.000000</td>\n",
       "      <td>1.0</td>\n",
       "    </tr>\n",
       "    <tr>\n",
       "      <th>1</th>\n",
       "      <td>Merck KGaA</td>\n",
       "      <td>2018-02-07</td>\n",
       "      <td>3</td>\n",
       "      <td>0</td>\n",
       "      <td>2</td>\n",
       "      <td>1</td>\n",
       "      <td>0.333333</td>\n",
       "      <td>1.0</td>\n",
       "    </tr>\n",
       "    <tr>\n",
       "      <th>2</th>\n",
       "      <td>Deutsche Boerse AG</td>\n",
       "      <td>2018-02-04</td>\n",
       "      <td>4</td>\n",
       "      <td>1</td>\n",
       "      <td>0</td>\n",
       "      <td>3</td>\n",
       "      <td>0.500000</td>\n",
       "      <td>0.5</td>\n",
       "    </tr>\n",
       "    <tr>\n",
       "      <th>3</th>\n",
       "      <td>Munich Re</td>\n",
       "      <td>2018-02-03</td>\n",
       "      <td>4</td>\n",
       "      <td>0</td>\n",
       "      <td>2</td>\n",
       "      <td>2</td>\n",
       "      <td>0.500000</td>\n",
       "      <td>1.0</td>\n",
       "    </tr>\n",
       "    <tr>\n",
       "      <th>4</th>\n",
       "      <td>Bayer AG</td>\n",
       "      <td>2018-02-04</td>\n",
       "      <td>5</td>\n",
       "      <td>0</td>\n",
       "      <td>2</td>\n",
       "      <td>3</td>\n",
       "      <td>0.600000</td>\n",
       "      <td>1.0</td>\n",
       "    </tr>\n",
       "    <tr>\n",
       "      <th>5</th>\n",
       "      <td>Fresenius SE &amp; Co KGaA</td>\n",
       "      <td>2018-02-06</td>\n",
       "      <td>5</td>\n",
       "      <td>0</td>\n",
       "      <td>4</td>\n",
       "      <td>1</td>\n",
       "      <td>0.200000</td>\n",
       "      <td>1.0</td>\n",
       "    </tr>\n",
       "    <tr>\n",
       "      <th>6</th>\n",
       "      <td>Munich Re</td>\n",
       "      <td>2018-02-04</td>\n",
       "      <td>5</td>\n",
       "      <td>0</td>\n",
       "      <td>4</td>\n",
       "      <td>1</td>\n",
       "      <td>0.200000</td>\n",
       "      <td>1.0</td>\n",
       "    </tr>\n",
       "    <tr>\n",
       "      <th>7</th>\n",
       "      <td>Merck KGaA</td>\n",
       "      <td>2018-02-04</td>\n",
       "      <td>6</td>\n",
       "      <td>3</td>\n",
       "      <td>2</td>\n",
       "      <td>1</td>\n",
       "      <td>-0.333333</td>\n",
       "      <td>-0.5</td>\n",
       "    </tr>\n",
       "    <tr>\n",
       "      <th>8</th>\n",
       "      <td>Merck KGaA</td>\n",
       "      <td>2018-02-08</td>\n",
       "      <td>6</td>\n",
       "      <td>0</td>\n",
       "      <td>3</td>\n",
       "      <td>3</td>\n",
       "      <td>0.500000</td>\n",
       "      <td>1.0</td>\n",
       "    </tr>\n",
       "    <tr>\n",
       "      <th>9</th>\n",
       "      <td>Bayer AG</td>\n",
       "      <td>2018-02-03</td>\n",
       "      <td>7</td>\n",
       "      <td>1</td>\n",
       "      <td>2</td>\n",
       "      <td>4</td>\n",
       "      <td>0.428571</td>\n",
       "      <td>0.6</td>\n",
       "    </tr>\n",
       "  </tbody>\n",
       "</table>\n",
       "</div>"
      ],
      "text/plain": [
       "                  Company         Day  Total Messages  Negative Messages  \\\n",
       "0  Fresenius SE & Co KGaA  2018-02-04               3                  0   \n",
       "1              Merck KGaA  2018-02-07               3                  0   \n",
       "2      Deutsche Boerse AG  2018-02-04               4                  1   \n",
       "3               Munich Re  2018-02-03               4                  0   \n",
       "4                Bayer AG  2018-02-04               5                  0   \n",
       "5  Fresenius SE & Co KGaA  2018-02-06               5                  0   \n",
       "6               Munich Re  2018-02-04               5                  0   \n",
       "7              Merck KGaA  2018-02-04               6                  3   \n",
       "8              Merck KGaA  2018-02-08               6                  0   \n",
       "9                Bayer AG  2018-02-03               7                  1   \n",
       "\n",
       "   Neutral Messages  Positive Messages  Absolute  Relative  \n",
       "0                 0                  3  1.000000       1.0  \n",
       "1                 2                  1  0.333333       1.0  \n",
       "2                 0                  3  0.500000       0.5  \n",
       "3                 2                  2  0.500000       1.0  \n",
       "4                 2                  3  0.600000       1.0  \n",
       "5                 4                  1  0.200000       1.0  \n",
       "6                 4                  1  0.200000       1.0  \n",
       "7                 2                  1 -0.333333      -0.5  \n",
       "8                 3                  3  0.500000       1.0  \n",
       "9                 2                  4  0.428571       0.6  "
      ]
     },
     "execution_count": 10,
     "metadata": {},
     "output_type": "execute_result"
    }
   ],
   "source": [
    "st.head(10)"
   ]
  },
  {
   "cell_type": "code",
   "execution_count": 11,
   "metadata": {},
   "outputs": [
    {
     "data": {
      "text/plain": [
       "313"
      ]
     },
     "execution_count": 11,
     "metadata": {},
     "output_type": "execute_result"
    }
   ],
   "source": [
    "st['Relative'].isna().sum()"
   ]
  },
  {
   "cell_type": "markdown",
   "metadata": {},
   "source": [
    "The distribution of `Relative Proportional Difference`"
   ]
  },
  {
   "cell_type": "code",
   "execution_count": 12,
   "metadata": {},
   "outputs": [
    {
     "data": {
      "image/png": "[encoded data removed]",
      "text/plain": [
       "<matplotlib.figure.Figure at 0x1b1e55eaf28>"
      ]
     },
     "metadata": {},
     "output_type": "display_data"
    }
   ],
   "source": [
    "Relative = st['Relative'].dropna()\n",
    "sns.distplot(Relative, bins=20);"
   ]
  },
  {
   "cell_type": "markdown",
   "metadata": {},
   "source": [
    "- Although `Relative Proportional Difference` appears to fix the problems of messages in `Neutral` category effecting position estimates, but sill have a disadvantages. A sentiment score may tend to cluster very strongly near the scale endpoints (-1 or 1) because they may contain content primarily or exclusively of either positive or negative.\n",
    "\n",
    "- This has the unfortunate effect of forcing the `Sentiment Score` to -1 when `P` = 0 irrespective of the value of `N`, or to 1 when `N` = 0 irrespective of the value of `P`. "
   ]
  },
  {
   "cell_type": "markdown",
   "metadata": {},
   "source": [
    "__Log Odds-Ratios (OR)__\n",
    "- Because we are primarily interested in how the company more positive (or negative) a topic on particular day or between companies, we view it as most natural to consider proportional changes on a symmetrical `positive-negative` scale. The natural measure for this purpose in the empirical logit:\n",
    "\n",
    "$$\n",
    "Sentiment\\;Score  = log \\frac{P+0.5}{N+0.5} \n",
    "= log(P+0.5) - log(N+0.5) \n",
    "$$\n",
    "\n",
    "- Like `Relative Proportional Difference`, `Log OR` is conditional because it only considers messages that are assigned to `positive` or `negative`. Unlike `Absolute Proportional Difference` and `Relative Proportional Difference`, however, the `Log OR` has no predefined endpoints (like [-1,1]): it is possible to generate sentiment of any level of extremity. In this respect, `Log OR` better reflects the sentiment of different companies, and also the companies that have many messages per day to companies that have few messages per day. \n",
    "- This tends to have the smoothest properties and is symmetric around zero. The 0.5 is a smoother to prevent `log(0)`."
   ]
  },
  {
   "cell_type": "code",
   "execution_count": 13,
   "metadata": {},
   "outputs": [],
   "source": [
    "st['Log OR'] = np.log(st['Positive Messages'] + 0.5) - np.log(st['Negative Messages'] + 0.5)"
   ]
  },
  {
   "cell_type": "code",
   "execution_count": 14,
   "metadata": {},
   "outputs": [
    {
     "data": {
      "text/html": [
       "<div>\n",
       "<style scoped>\n",
       "    .dataframe tbody tr th:only-of-type {\n",
       "        vertical-align: middle;\n",
       "    }\n",
       "\n",
       "    .dataframe tbody tr th {\n",
       "        vertical-align: top;\n",
       "    }\n",
       "\n",
       "    .dataframe thead th {\n",
       "        text-align: right;\n",
       "    }\n",
       "</style>\n",
       "<table border=\"1\" class=\"dataframe\">\n",
       "  <thead>\n",
       "    <tr style=\"text-align: right;\">\n",
       "      <th></th>\n",
       "      <th>Company</th>\n",
       "      <th>Day</th>\n",
       "      <th>Total Messages</th>\n",
       "      <th>Negative Messages</th>\n",
       "      <th>Neutral Messages</th>\n",
       "      <th>Positive Messages</th>\n",
       "      <th>Absolute</th>\n",
       "      <th>Relative</th>\n",
       "      <th>Log OR</th>\n",
       "    </tr>\n",
       "  </thead>\n",
       "  <tbody>\n",
       "    <tr>\n",
       "      <th>0</th>\n",
       "      <td>Fresenius SE &amp; Co KGaA</td>\n",
       "      <td>2018-02-04</td>\n",
       "      <td>3</td>\n",
       "      <td>0</td>\n",
       "      <td>0</td>\n",
       "      <td>3</td>\n",
       "      <td>1.000000</td>\n",
       "      <td>1.0</td>\n",
       "      <td>1.945910</td>\n",
       "    </tr>\n",
       "    <tr>\n",
       "      <th>1</th>\n",
       "      <td>Merck KGaA</td>\n",
       "      <td>2018-02-07</td>\n",
       "      <td>3</td>\n",
       "      <td>0</td>\n",
       "      <td>2</td>\n",
       "      <td>1</td>\n",
       "      <td>0.333333</td>\n",
       "      <td>1.0</td>\n",
       "      <td>1.098612</td>\n",
       "    </tr>\n",
       "    <tr>\n",
       "      <th>2</th>\n",
       "      <td>Deutsche Boerse AG</td>\n",
       "      <td>2018-02-04</td>\n",
       "      <td>4</td>\n",
       "      <td>1</td>\n",
       "      <td>0</td>\n",
       "      <td>3</td>\n",
       "      <td>0.500000</td>\n",
       "      <td>0.5</td>\n",
       "      <td>0.847298</td>\n",
       "    </tr>\n",
       "    <tr>\n",
       "      <th>3</th>\n",
       "      <td>Munich Re</td>\n",
       "      <td>2018-02-03</td>\n",
       "      <td>4</td>\n",
       "      <td>0</td>\n",
       "      <td>2</td>\n",
       "      <td>2</td>\n",
       "      <td>0.500000</td>\n",
       "      <td>1.0</td>\n",
       "      <td>1.609438</td>\n",
       "    </tr>\n",
       "    <tr>\n",
       "      <th>4</th>\n",
       "      <td>Bayer AG</td>\n",
       "      <td>2018-02-04</td>\n",
       "      <td>5</td>\n",
       "      <td>0</td>\n",
       "      <td>2</td>\n",
       "      <td>3</td>\n",
       "      <td>0.600000</td>\n",
       "      <td>1.0</td>\n",
       "      <td>1.945910</td>\n",
       "    </tr>\n",
       "    <tr>\n",
       "      <th>5</th>\n",
       "      <td>Fresenius SE &amp; Co KGaA</td>\n",
       "      <td>2018-02-06</td>\n",
       "      <td>5</td>\n",
       "      <td>0</td>\n",
       "      <td>4</td>\n",
       "      <td>1</td>\n",
       "      <td>0.200000</td>\n",
       "      <td>1.0</td>\n",
       "      <td>1.098612</td>\n",
       "    </tr>\n",
       "    <tr>\n",
       "      <th>6</th>\n",
       "      <td>Munich Re</td>\n",
       "      <td>2018-02-04</td>\n",
       "      <td>5</td>\n",
       "      <td>0</td>\n",
       "      <td>4</td>\n",
       "      <td>1</td>\n",
       "      <td>0.200000</td>\n",
       "      <td>1.0</td>\n",
       "      <td>1.098612</td>\n",
       "    </tr>\n",
       "    <tr>\n",
       "      <th>7</th>\n",
       "      <td>Merck KGaA</td>\n",
       "      <td>2018-02-04</td>\n",
       "      <td>6</td>\n",
       "      <td>3</td>\n",
       "      <td>2</td>\n",
       "      <td>1</td>\n",
       "      <td>-0.333333</td>\n",
       "      <td>-0.5</td>\n",
       "      <td>-0.847298</td>\n",
       "    </tr>\n",
       "    <tr>\n",
       "      <th>8</th>\n",
       "      <td>Merck KGaA</td>\n",
       "      <td>2018-02-08</td>\n",
       "      <td>6</td>\n",
       "      <td>0</td>\n",
       "      <td>3</td>\n",
       "      <td>3</td>\n",
       "      <td>0.500000</td>\n",
       "      <td>1.0</td>\n",
       "      <td>1.945910</td>\n",
       "    </tr>\n",
       "    <tr>\n",
       "      <th>9</th>\n",
       "      <td>Bayer AG</td>\n",
       "      <td>2018-02-03</td>\n",
       "      <td>7</td>\n",
       "      <td>1</td>\n",
       "      <td>2</td>\n",
       "      <td>4</td>\n",
       "      <td>0.428571</td>\n",
       "      <td>0.6</td>\n",
       "      <td>1.098612</td>\n",
       "    </tr>\n",
       "  </tbody>\n",
       "</table>\n",
       "</div>"
      ],
      "text/plain": [
       "                  Company         Day  Total Messages  Negative Messages  \\\n",
       "0  Fresenius SE & Co KGaA  2018-02-04               3                  0   \n",
       "1              Merck KGaA  2018-02-07               3                  0   \n",
       "2      Deutsche Boerse AG  2018-02-04               4                  1   \n",
       "3               Munich Re  2018-02-03               4                  0   \n",
       "4                Bayer AG  2018-02-04               5                  0   \n",
       "5  Fresenius SE & Co KGaA  2018-02-06               5                  0   \n",
       "6               Munich Re  2018-02-04               5                  0   \n",
       "7              Merck KGaA  2018-02-04               6                  3   \n",
       "8              Merck KGaA  2018-02-08               6                  0   \n",
       "9                Bayer AG  2018-02-03               7                  1   \n",
       "\n",
       "   Neutral Messages  Positive Messages  Absolute  Relative    Log OR  \n",
       "0                 0                  3  1.000000       1.0  1.945910  \n",
       "1                 2                  1  0.333333       1.0  1.098612  \n",
       "2                 0                  3  0.500000       0.5  0.847298  \n",
       "3                 2                  2  0.500000       1.0  1.609438  \n",
       "4                 2                  3  0.600000       1.0  1.945910  \n",
       "5                 4                  1  0.200000       1.0  1.098612  \n",
       "6                 4                  1  0.200000       1.0  1.098612  \n",
       "7                 2                  1 -0.333333      -0.5 -0.847298  \n",
       "8                 3                  3  0.500000       1.0  1.945910  \n",
       "9                 2                  4  0.428571       0.6  1.098612  "
      ]
     },
     "execution_count": 14,
     "metadata": {},
     "output_type": "execute_result"
    }
   ],
   "source": [
    "st.head(10)"
   ]
  },
  {
   "cell_type": "markdown",
   "metadata": {},
   "source": [
    "Which company has the most negative score?"
   ]
  },
  {
   "cell_type": "code",
   "execution_count": 15,
   "metadata": {},
   "outputs": [
    {
     "data": {
      "text/plain": [
       "-4.056988775678332"
      ]
     },
     "execution_count": 15,
     "metadata": {},
     "output_type": "execute_result"
    }
   ],
   "source": [
    "min(st['Log OR'])"
   ]
  },
  {
   "cell_type": "code",
   "execution_count": 16,
   "metadata": {},
   "outputs": [
    {
     "data": {
      "text/html": [
       "<div>\n",
       "<style scoped>\n",
       "    .dataframe tbody tr th:only-of-type {\n",
       "        vertical-align: middle;\n",
       "    }\n",
       "\n",
       "    .dataframe tbody tr th {\n",
       "        vertical-align: top;\n",
       "    }\n",
       "\n",
       "    .dataframe thead th {\n",
       "        text-align: right;\n",
       "    }\n",
       "</style>\n",
       "<table border=\"1\" class=\"dataframe\">\n",
       "  <thead>\n",
       "    <tr style=\"text-align: right;\">\n",
       "      <th></th>\n",
       "      <th>Company</th>\n",
       "      <th>Day</th>\n",
       "      <th>Total Messages</th>\n",
       "      <th>Negative Messages</th>\n",
       "      <th>Neutral Messages</th>\n",
       "      <th>Positive Messages</th>\n",
       "      <th>Absolute</th>\n",
       "      <th>Relative</th>\n",
       "      <th>Log OR</th>\n",
       "    </tr>\n",
       "  </thead>\n",
       "  <tbody>\n",
       "    <tr>\n",
       "      <th>787</th>\n",
       "      <td>GoPro</td>\n",
       "      <td>2018-02-03</td>\n",
       "      <td>150</td>\n",
       "      <td>144</td>\n",
       "      <td>4</td>\n",
       "      <td>2</td>\n",
       "      <td>-0.946667</td>\n",
       "      <td>-0.972603</td>\n",
       "      <td>-4.056989</td>\n",
       "    </tr>\n",
       "  </tbody>\n",
       "</table>\n",
       "</div>"
      ],
      "text/plain": [
       "    Company         Day  Total Messages  Negative Messages  Neutral Messages  \\\n",
       "787   GoPro  2018-02-03             150                144                 4   \n",
       "\n",
       "     Positive Messages  Absolute  Relative    Log OR  \n",
       "787                  2 -0.946667 -0.972603 -4.056989  "
      ]
     },
     "execution_count": 16,
     "metadata": {},
     "output_type": "execute_result"
    }
   ],
   "source": [
    "st.loc[st['Log OR'] == -4.056988775678332]"
   ]
  },
  {
   "cell_type": "markdown",
   "metadata": {},
   "source": [
    "Which company has the most positive score?"
   ]
  },
  {
   "cell_type": "code",
   "execution_count": 17,
   "metadata": {},
   "outputs": [
    {
     "data": {
      "text/plain": [
       "6.1675164908883415"
      ]
     },
     "execution_count": 17,
     "metadata": {},
     "output_type": "execute_result"
    }
   ],
   "source": [
    "max(st['Log OR'])"
   ]
  },
  {
   "cell_type": "code",
   "execution_count": 18,
   "metadata": {},
   "outputs": [
    {
     "data": {
      "text/html": [
       "<div>\n",
       "<style scoped>\n",
       "    .dataframe tbody tr th:only-of-type {\n",
       "        vertical-align: middle;\n",
       "    }\n",
       "\n",
       "    .dataframe tbody tr th {\n",
       "        vertical-align: top;\n",
       "    }\n",
       "\n",
       "    .dataframe thead th {\n",
       "        text-align: right;\n",
       "    }\n",
       "</style>\n",
       "<table border=\"1\" class=\"dataframe\">\n",
       "  <thead>\n",
       "    <tr style=\"text-align: right;\">\n",
       "      <th></th>\n",
       "      <th>Company</th>\n",
       "      <th>Day</th>\n",
       "      <th>Total Messages</th>\n",
       "      <th>Negative Messages</th>\n",
       "      <th>Neutral Messages</th>\n",
       "      <th>Positive Messages</th>\n",
       "      <th>Absolute</th>\n",
       "      <th>Relative</th>\n",
       "      <th>Log OR</th>\n",
       "    </tr>\n",
       "  </thead>\n",
       "  <tbody>\n",
       "    <tr>\n",
       "      <th>665</th>\n",
       "      <td>First Solar Inc</td>\n",
       "      <td>2018-02-05</td>\n",
       "      <td>312</td>\n",
       "      <td>0</td>\n",
       "      <td>74</td>\n",
       "      <td>238</td>\n",
       "      <td>0.762821</td>\n",
       "      <td>1.0</td>\n",
       "      <td>6.167516</td>\n",
       "    </tr>\n",
       "  </tbody>\n",
       "</table>\n",
       "</div>"
      ],
      "text/plain": [
       "             Company         Day  Total Messages  Negative Messages  \\\n",
       "665  First Solar Inc  2018-02-05             312                  0   \n",
       "\n",
       "     Neutral Messages  Positive Messages  Absolute  Relative    Log OR  \n",
       "665                74                238  0.762821       1.0  6.167516  "
      ]
     },
     "execution_count": 18,
     "metadata": {},
     "output_type": "execute_result"
    }
   ],
   "source": [
    "st.loc[st['Log OR'] == 6.1675164908883415]"
   ]
  },
  {
   "cell_type": "markdown",
   "metadata": {},
   "source": [
    "The distribution of `Log Odds-Ratios (OR)`"
   ]
  },
  {
   "cell_type": "code",
   "execution_count": 19,
   "metadata": {},
   "outputs": [
    {
     "data": {
      "image/png": "[encoded data removed]",
      "text/plain": [
       "<matplotlib.figure.Figure at 0x1b1e563e550>"
      ]
     },
     "metadata": {},
     "output_type": "display_data"
    }
   ],
   "source": [
    "sns.distplot(st['Log OR'], bins=30);"
   ]
  },
  {
   "cell_type": "markdown",
   "metadata": {},
   "source": [
    "My conclusions are that the use of `Logit Odds-Ratios` formula to estimate positively (or negatively) from counts of messages categories, as well as to my demonstration through direct comparison to other formula, suggest that the `Logit Odds-Ratios` is superior and should be used for calculating a sentiment score."
   ]
  },
  {
   "cell_type": "markdown",
   "metadata": {},
   "source": [
    "__Top ten companies that have most number of total messages__"
   ]
  },
  {
   "cell_type": "code",
   "execution_count": 20,
   "metadata": {},
   "outputs": [],
   "source": [
    "# st['Total Messages'].groupby(st['Company']).describe().sort_values('mean', ascending=False).head(10)\n",
    "st_gb = st.groupby('Company')[['Total Messages','Negative Messages','Neutral Messages','Positive Messages']].sum().sort_values(by='Total Messages', ascending=False).head(10)"
   ]
  },
  {
   "cell_type": "code",
   "execution_count": 21,
   "metadata": {},
   "outputs": [
    {
     "data": {
      "text/html": [
       "<div>\n",
       "<style scoped>\n",
       "    .dataframe tbody tr th:only-of-type {\n",
       "        vertical-align: middle;\n",
       "    }\n",
       "\n",
       "    .dataframe tbody tr th {\n",
       "        vertical-align: top;\n",
       "    }\n",
       "\n",
       "    .dataframe thead th {\n",
       "        text-align: right;\n",
       "    }\n",
       "</style>\n",
       "<table border=\"1\" class=\"dataframe\">\n",
       "  <thead>\n",
       "    <tr style=\"text-align: right;\">\n",
       "      <th></th>\n",
       "      <th>Total Messages</th>\n",
       "      <th>Negative Messages</th>\n",
       "      <th>Neutral Messages</th>\n",
       "      <th>Positive Messages</th>\n",
       "    </tr>\n",
       "    <tr>\n",
       "      <th>Company</th>\n",
       "      <th></th>\n",
       "      <th></th>\n",
       "      <th></th>\n",
       "      <th></th>\n",
       "    </tr>\n",
       "  </thead>\n",
       "  <tbody>\n",
       "    <tr>\n",
       "      <th>Apple Inc</th>\n",
       "      <td>37217</td>\n",
       "      <td>7160</td>\n",
       "      <td>16075</td>\n",
       "      <td>13982</td>\n",
       "    </tr>\n",
       "    <tr>\n",
       "      <th>Alphabet Inc</th>\n",
       "      <td>28568</td>\n",
       "      <td>9625</td>\n",
       "      <td>11492</td>\n",
       "      <td>7451</td>\n",
       "    </tr>\n",
       "    <tr>\n",
       "      <th>Deutsche Bank AG</th>\n",
       "      <td>22146</td>\n",
       "      <td>9210</td>\n",
       "      <td>8625</td>\n",
       "      <td>4311</td>\n",
       "    </tr>\n",
       "    <tr>\n",
       "      <th>Wells Fargo &amp; Co</th>\n",
       "      <td>21439</td>\n",
       "      <td>11462</td>\n",
       "      <td>4076</td>\n",
       "      <td>5901</td>\n",
       "    </tr>\n",
       "    <tr>\n",
       "      <th>Twitter Inc</th>\n",
       "      <td>20805</td>\n",
       "      <td>6759</td>\n",
       "      <td>4791</td>\n",
       "      <td>9255</td>\n",
       "    </tr>\n",
       "  </tbody>\n",
       "</table>\n",
       "</div>"
      ],
      "text/plain": [
       "                  Total Messages  Negative Messages  Neutral Messages  \\\n",
       "Company                                                                 \n",
       "Apple Inc                  37217               7160             16075   \n",
       "Alphabet Inc               28568               9625             11492   \n",
       "Deutsche Bank AG           22146               9210              8625   \n",
       "Wells Fargo & Co           21439              11462              4076   \n",
       "Twitter Inc                20805               6759              4791   \n",
       "\n",
       "                  Positive Messages  \n",
       "Company                              \n",
       "Apple Inc                     13982  \n",
       "Alphabet Inc                   7451  \n",
       "Deutsche Bank AG               4311  \n",
       "Wells Fargo & Co               5901  \n",
       "Twitter Inc                    9255  "
      ]
     },
     "execution_count": 21,
     "metadata": {},
     "output_type": "execute_result"
    }
   ],
   "source": [
    "st_gb.head()"
   ]
  },
  {
   "cell_type": "code",
   "execution_count": 22,
   "metadata": {},
   "outputs": [],
   "source": [
    "dt = st_gb.transpose()"
   ]
  },
  {
   "cell_type": "code",
   "execution_count": 23,
   "metadata": {},
   "outputs": [
    {
     "data": {
      "text/html": [
       "<div>\n",
       "<style scoped>\n",
       "    .dataframe tbody tr th:only-of-type {\n",
       "        vertical-align: middle;\n",
       "    }\n",
       "\n",
       "    .dataframe tbody tr th {\n",
       "        vertical-align: top;\n",
       "    }\n",
       "\n",
       "    .dataframe thead th {\n",
       "        text-align: right;\n",
       "    }\n",
       "</style>\n",
       "<table border=\"1\" class=\"dataframe\">\n",
       "  <thead>\n",
       "    <tr style=\"text-align: right;\">\n",
       "      <th></th>\n",
       "      <th>index</th>\n",
       "      <th>Company</th>\n",
       "      <th>value</th>\n",
       "    </tr>\n",
       "  </thead>\n",
       "  <tbody>\n",
       "    <tr>\n",
       "      <th>0</th>\n",
       "      <td>Total Messages</td>\n",
       "      <td>Apple Inc</td>\n",
       "      <td>37217</td>\n",
       "    </tr>\n",
       "    <tr>\n",
       "      <th>1</th>\n",
       "      <td>Negative Messages</td>\n",
       "      <td>Apple Inc</td>\n",
       "      <td>7160</td>\n",
       "    </tr>\n",
       "    <tr>\n",
       "      <th>2</th>\n",
       "      <td>Neutral Messages</td>\n",
       "      <td>Apple Inc</td>\n",
       "      <td>16075</td>\n",
       "    </tr>\n",
       "    <tr>\n",
       "      <th>3</th>\n",
       "      <td>Positive Messages</td>\n",
       "      <td>Apple Inc</td>\n",
       "      <td>13982</td>\n",
       "    </tr>\n",
       "    <tr>\n",
       "      <th>4</th>\n",
       "      <td>Total Messages</td>\n",
       "      <td>Alphabet Inc</td>\n",
       "      <td>28568</td>\n",
       "    </tr>\n",
       "  </tbody>\n",
       "</table>\n",
       "</div>"
      ],
      "text/plain": [
       "               index       Company  value\n",
       "0     Total Messages     Apple Inc  37217\n",
       "1  Negative Messages     Apple Inc   7160\n",
       "2   Neutral Messages     Apple Inc  16075\n",
       "3  Positive Messages     Apple Inc  13982\n",
       "4     Total Messages  Alphabet Inc  28568"
      ]
     },
     "execution_count": 23,
     "metadata": {},
     "output_type": "execute_result"
    }
   ],
   "source": [
    "dt_bar = dt.reset_index().melt(id_vars=[\"index\"])\n",
    "dt_bar.head()"
   ]
  },
  {
   "cell_type": "code",
   "execution_count": 24,
   "metadata": {},
   "outputs": [
    {
     "data": {
      "image/png": "[encoded data removed]",
      "text/plain": [
       "<matplotlib.figure.Figure at 0x1b1e56b3198>"
      ]
     },
     "metadata": {},
     "output_type": "display_data"
    }
   ],
   "source": [
    "plt.figure(figsize=(20,9))\n",
    "sns.barplot(x=\"Company\", y=\"value\", hue=\"index\", data=dt_bar);"
   ]
  },
  {
   "cell_type": "code",
   "execution_count": null,
   "metadata": {},
   "outputs": [],
   "source": []
  }
 ],
 "metadata": {
  "kernelspec": {
   "display_name": "Python 3",
   "language": "python",
   "name": "python3"
  },
  "language_info": {
   "codemirror_mode": {
    "name": "ipython",
    "version": 3
   },
   "file_extension": ".py",
   "mimetype": "text/x-python",
   "name": "python",
   "nbconvert_exporter": "python",
   "pygments_lexer": "ipython3",
   "version": "3.6.3"
  }
 },
 "nbformat": 4,
 "nbformat_minor": 2
}
